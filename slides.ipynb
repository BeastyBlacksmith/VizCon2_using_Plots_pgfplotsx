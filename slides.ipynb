{
 "cells": [
  {
   "outputs": [],
   "cell_type": "markdown",
   "source": [
    "\n",
    "\n",
    "\n",
    "\n",
    "The Plots pgfplotsx-backend\n",
    "====="
   ],
   "metadata": {
    "slideshow": {
     "slide_type": "slide"
    }
   }
  },
  {
   "outputs": [],
   "cell_type": "markdown",
   "source": [
    "\n",
    "## Why?\n",
    "\n",
    "- Missing features\n",
    "- (Hopefully) easier to maintain"
   ],
   "metadata": {
    "slideshow": {
     "slide_type": "slide"
    }
   }
  },
  {
   "outputs": [],
   "cell_type": "markdown",
   "source": [
    "\n",
    "- PGFPlotsX has better documentation\n",
    "- it makes the right promises"
   ],
   "metadata": {
    "slideshow": {
     "slide_type": "subslide"
    }
   }
  },
  {
   "outputs": [],
   "cell_type": "markdown",
   "source": [
    "\n",
    "## How?"
   ],
   "metadata": {
    "slideshow": {
     "slide_type": "slide"
    }
   }
  },
  {
   "outputs": [],
   "cell_type": "markdown",
   "source": [
    "\n",
    "### Plots -> PGFPlotsX -> LuaLaTeX -> pdf -> convert\n",
    "\n",
    "- translates `plotattributes` to PGFPlotsX.Options + Types (e.g. `PGFPlotsX.Axis`)\n",
    "- creates a `.tex`-file that gets compiled to pdf\n",
    "- this gets then converted to the desired output format"
   ],
   "metadata": {
    "slideshow": {
     "slide_type": "subslide"
    }
   }
  },
  {
   "outputs": [],
   "cell_type": "markdown",
   "source": [
    "\n",
    "### Issues\n",
    "\n",
    "- LaTeX dependency + binary dependencies for conversion"
   ],
   "metadata": {
    "slideshow": {
     "slide_type": "subslide"
    }
   }
  },
  {
   "outputs": [],
   "cell_type": "markdown",
   "source": [
    "\n",
    "## What's new?"
   ],
   "metadata": {
    "slideshow": {
     "slide_type": "slide"
    }
   }
  },
  {
   "outputs": [],
   "cell_type": "markdown",
   "source": [
    "\n",
    "### 3D contours"
   ],
   "metadata": {
    "slideshow": {
     "slide_type": "subslide"
    }
   }
  },
  {
   "outputs": [],
   "cell_type": "code",
   "source": [
    "using Plots;\n",
    "pgfplotsx();\n",
    "f(x, y) = exp(-x^2 - y^2)\n",
    "xs = range(-1, 1, length = 20)\n",
    "ys = range(-1, 1, length = 20)\n",
    "contour3d(xs, ys, [f(x, y) for x in xs, y in ys])"
   ],
   "metadata": {},
   "execution_count": null
  },
  {
   "outputs": [],
   "cell_type": "markdown",
   "source": [
    "\n",
    "### Heatmaps"
   ],
   "metadata": {
    "slideshow": {
     "slide_type": "subslide"
    }
   }
  },
  {
   "outputs": [],
   "cell_type": "code",
   "source": [
    "xs = [string(\"x\", i) for i = 1:10]\n",
    "ys = [string(\"y\", i) for i = 1:4]\n",
    "z = float((1:4) * reshape(1:10, 1, :))\n",
    "pgfx_plot = heatmap(xs, ys, z, aspect_ratio = 1)"
   ],
   "metadata": {},
   "execution_count": null
  },
  {
   "outputs": [],
   "cell_type": "markdown",
   "source": [
    "\n",
    "### 3D scatter"
   ],
   "metadata": {
    "slideshow": {
     "slide_type": "subslide"
    }
   }
  },
  {
   "outputs": [],
   "cell_type": "code",
   "source": [
    "n = 100\n",
    "ts = range(0, stop = 8π, length = n)\n",
    "x = ts .* map(cos, ts)\n",
    "y = (0.1ts) .* map(sin, ts)\n",
    "z = 1:n\n",
    "pl = plot(\n",
    "        x,\n",
    "        y,\n",
    "        z,\n",
    "        zcolor = reverse(z),\n",
    "        m = (10, 0.8, :blues, Plots.stroke(0)),\n",
    "        leg = false,\n",
    "        cbar = true,\n",
    "        w = 5,\n",
    ")\n",
    "pgfx_plot = plot!(pl, zeros(n), zeros(n), 1:n, w = 10)"
   ],
   "metadata": {},
   "execution_count": null
  },
  {
   "outputs": [],
   "cell_type": "markdown",
   "source": [
    "\n",
    "### Surface plots"
   ],
   "metadata": {
    "slideshow": {
     "slide_type": "subslide"
    }
   }
  },
  {
   "outputs": [],
   "cell_type": "code",
   "source": [
    "f(x, y) = exp(sqrt(x^2 + y^2))\n",
    "xs = range(-1, 1, length = 20)\n",
    "ys = range(-1, 1, length = 20)\n",
    "surface(xs, ys, [f(x, y) for x in xs, y in ys], label = \"Cosy surface\")"
   ],
   "metadata": {},
   "execution_count": null
  },
  {
   "outputs": [],
   "cell_type": "markdown",
   "source": [
    "\n",
    "### Quiver plots"
   ],
   "metadata": {
    "slideshow": {
     "slide_type": "subslide"
    }
   }
  },
  {
   "outputs": [],
   "cell_type": "code",
   "source": [
    "x = (-2pi):0.2:(2 * pi)\n",
    "y = sin.(x)\n",
    "u = ones(length(x))\n",
    "v = cos.(x)\n",
    "plot(x, y, quiver = (u, v), arrow = true, xlims = (-7, 8), ylims = (-1.5, 1.5))"
   ],
   "metadata": {},
   "execution_count": null
  },
  {
   "outputs": [],
   "cell_type": "markdown",
   "source": [
    "\n",
    "### Ribbons"
   ],
   "metadata": {
    "slideshow": {
     "slide_type": "subslide"
    }
   }
  },
  {
   "outputs": [],
   "cell_type": "code",
   "source": [
    "aa = rand(10)\n",
    "bb = rand(10)\n",
    "cc = rand(10)\n",
    "plot(collect(1:10), cc, ribbon = (bb, aa))"
   ],
   "metadata": {},
   "execution_count": null
  },
  {
   "outputs": [],
   "cell_type": "markdown",
   "source": [
    "\n",
    "### Fill between functions"
   ],
   "metadata": {
    "slideshow": {
     "slide_type": "subslide"
    }
   }
  },
  {
   "outputs": [],
   "cell_type": "code",
   "source": [
    "plot(sin, 0, 2pi)\n",
    "plot!(cos, 0, 2pi, fillrange = (2, 1)) # numbers are the series indices"
   ],
   "metadata": {},
   "execution_count": null
  },
  {
   "outputs": [],
   "cell_type": "markdown",
   "source": [
    "\n",
    "## What's missing?\n",
    "\n",
    "- Layouting is a mess (especially setting margins)\n",
    "- [Meta-Issue](https://github.com/JuliaPlots/Plots.jl/issues/2290)"
   ],
   "metadata": {
    "slideshow": {
     "slide_type": "slide"
    }
   }
  },
  {
   "outputs": [],
   "cell_type": "markdown",
   "source": [
    "\n",
    "### Layouting\n",
    "\n",
    "- On the plots side, we have (right/left/top/bottom) margins, bounding box of the plotarea and boinding box of a subplot.\n",
    "- On the pgfplots side, we have (right-left/top-bottom) margins (inner and outer), height and width of the axis as well as x/y-shift.\n",
    "- ⇢ No 1:1 mapping\n",
    "- In addition to that pgfplots have a page (which is currently a4paper by default)."
   ],
   "metadata": {
    "slideshow": {
     "slide_type": "subslide"
    }
   }
  },
  {
   "outputs": [],
   "cell_type": "markdown",
   "source": [
    "\n",
    "## Lessons learned\n",
    "\n",
    "- translate first and \"improve\" afterwards\n",
    "- might make sense to directly target pgf/TikZ if used as backend"
   ],
   "metadata": {
    "slideshow": {
     "slide_type": "slide"
    }
   }
  },
  {
   "outputs": [],
   "cell_type": "markdown",
   "source": [
    "\n",
    "Pgfplots is a convenience layer over pgf/TikZ. Targeting it for wrapper packages like PGFPlots/X.jl is a good thing.\n",
    "As a backend you don't really need the convenience, because that is already built in the frontend, you are more looking for fine grained control.\n",
    "Therefore, if I were to write a LaTeX Makie-backend it would be called `PGFMakie.jl`. ;)"
   ],
   "metadata": {
    "slideshow": {
     "slide_type": "subslide"
    }
   }
  },
  {
   "outputs": [],
   "cell_type": "markdown",
   "source": [
    "---\n",
    "\n",
    "*This notebook was generated using [Literate.jl](https://github.com/fredrikekre/Literate.jl).*"
   ],
   "metadata": {}
  }
 ],
 "nbformat_minor": 3,
 "metadata": {
  "language_info": {
   "file_extension": ".jl",
   "mimetype": "application/julia",
   "name": "julia",
   "version": "1.2.0"
  },
  "kernelspec": {
   "name": "julia-1.2",
   "display_name": "Julia 1.2.0",
   "language": "julia"
  },
  "rise": {
   "scroll": true,
   "progress": true,
   "theme": "simple",
   "header": "<h1 style=\\\"margin-left:20ex;>pgfplotsx()</h1>",
   "footer": "",
   "auto_select": true,
   "autolaunch": false
  }
 },
 "nbformat": 4
}
